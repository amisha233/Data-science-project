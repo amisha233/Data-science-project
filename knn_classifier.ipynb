{
  "nbformat": 4,
  "nbformat_minor": 0,
  "metadata": {
    "colab": {
      "provenance": [],
      "authorship_tag": "ABX9TyN6lFJWy9+QyV6njjo+2JQM",
      "include_colab_link": true
    },
    "kernelspec": {
      "name": "python3",
      "display_name": "Python 3"
    },
    "language_info": {
      "name": "python"
    }
  },
  "cells": [
    {
      "cell_type": "markdown",
      "metadata": {
        "id": "view-in-github",
        "colab_type": "text"
      },
      "source": [
        "<a href=\"https://colab.research.google.com/github/amisha233/Data-science-project/blob/main/knn_classifier.ipynb\" target=\"_parent\"><img src=\"https://colab.research.google.com/assets/colab-badge.svg\" alt=\"Open In Colab\"/></a>"
      ]
    },
    {
      "cell_type": "code",
      "execution_count": null,
      "metadata": {
        "colab": {
          "base_uri": "https://localhost:8080/"
        },
        "id": "GAZPpd7O_560",
        "outputId": "d4c50e32-892e-4fa8-e766-f82ed4549e45"
      },
      "outputs": [
        {
          "output_type": "stream",
          "name": "stdout",
          "text": [
            "Predicted Fruit Type: Apple\n"
          ]
        },
        {
          "output_type": "stream",
          "name": "stderr",
          "text": [
            "/usr/local/lib/python3.10/dist-packages/sklearn/base.py:493: UserWarning: X does not have valid feature names, but StandardScaler was fitted with feature names\n",
            "  warnings.warn(\n"
          ]
        }
      ],
      "source": [
        "import pandas as pd\n",
        "import numpy as np\n",
        "import matplotlib.pyplot as plt\n",
        "import seaborn as sns\n",
        "import  warnings\n",
        "warnings.-\n",
        "\n",
        "# Creating the dataset\n",
        "data = {\n",
        "    'Weight': [150, 130, 180, 100, 120, 110, 115, 105, 160, 150, 155, 140],\n",
        "    'Color Intensity': [7, 6, 8, 5, 3, 4, 3, 2, 9, 8, 9, 7],\n",
        "    'Size': ['Large', 'Medium', 'Large', 'Small', 'Small', 'Medium', 'Medium', 'Small', 'Large', 'Medium', 'Large', 'Medium'],\n",
        "    'Fruit Type': ['Apple', 'Apple', 'Apple', 'Apple', 'Banana', 'Banana', 'Banana', 'Banana', 'Orange', 'Orange', 'Orange', 'Orange']\n",
        "}\n",
        "\n",
        "df = pd.DataFrame(data)\n",
        "\n",
        "# Encoding the 'Size' categorical variable\n",
        "size_mapping = {'Small': 1, 'Medium': 2, 'Large': 3}\n",
        "df['Size'] = df['Size'].map(size_mapping)\n",
        "\n",
        "from sklearn.preprocessing import StandardScaler\n",
        "\n",
        "# Separating features and target variable\n",
        "X = df[['Weight', 'Color Intensity', 'Size']]\n",
        "y = df['Fruit Type']\n",
        "\n",
        "# Standardizing the features\n",
        "scaler = StandardScaler()\n",
        "X_scaled = scaler.fit_transform(X)\n",
        "\n",
        "from sklearn.model_selection import train_test_split\n",
        "\n",
        "# Splitting the dataset into training and testing sets (80/20 split)\n",
        "X_train, X_test, y_train, y_test = train_test_split(X_scaled, y, test_size=0.2, random_state=0)\n",
        "\n",
        "from sklearn.neighbors import KNeighborsClassifier\n",
        "\n",
        "# Create KNN classifier\n",
        "knn = KNeighborsClassifier(n_neighbors=3)\n",
        "\n",
        "# Fit the model\n",
        "knn.fit(X_train, y_train)\n",
        "\n",
        "import numpy as np\n",
        "\n",
        "# Input features\n",
        "input_features = np.array([[140, 7, 2]])  # 2 corresponds to 'Medium'\n",
        "\n",
        "# Standardize the input features using the same scaler\n",
        "input_scaled = scaler.transform(input_features)\n",
        "\n",
        "# Make the prediction\n",
        "predicted_fruit_type = knn.predict(input_scaled)\n",
        "\n",
        "print(\"Predicted Fruit Type:\", predicted_fruit_type[0])"
      ]
    }
  ]
}